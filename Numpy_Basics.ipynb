{
  "nbformat": 4,
  "nbformat_minor": 0,
  "metadata": {
    "colab": {
      "provenance": [],
      "authorship_tag": "ABX9TyMkkAYUoTJa+Wv/xoZB3kOF",
      "include_colab_link": true
    },
    "kernelspec": {
      "name": "python3",
      "display_name": "Python 3"
    },
    "language_info": {
      "name": "python"
    }
  },
  "cells": [
    {
      "cell_type": "markdown",
      "metadata": {
        "id": "view-in-github",
        "colab_type": "text"
      },
      "source": [
        "<a href=\"https://colab.research.google.com/github/faizazulfqar/Machine-Learning/blob/master/Numpy_Basics.ipynb\" target=\"_parent\"><img src=\"https://colab.research.google.com/assets/colab-badge.svg\" alt=\"Open In Colab\"/></a>"
      ]
    },
    {
      "cell_type": "code",
      "execution_count": 1,
      "metadata": {
        "id": "QS1Verpq_E4e"
      },
      "outputs": [],
      "source": [
        "#Importing Numpy Library\n",
        "import numpy as np"
      ]
    },
    {
      "cell_type": "code",
      "source": [
        "#creating Arrays\n",
        "Array_1=np.array([7,4,0,2,9])\n",
        "Array_2=np.array([6,3,9,1,7])\n",
        "print(Array_1,Array_2)"
      ],
      "metadata": {
        "colab": {
          "base_uri": "https://localhost:8080/"
        },
        "id": "FT3VbRtpA89e",
        "outputId": "03eb2ec2-2f4b-45ca-8088-525a77095aeb"
      },
      "execution_count": 8,
      "outputs": [
        {
          "output_type": "stream",
          "name": "stdout",
          "text": [
            "[7 4 0 2 9] [6 3 9 1 7]\n"
          ]
        }
      ]
    },
    {
      "cell_type": "code",
      "source": [
        "#Adding 2 Arrays\n",
        "print(np.add(Array_1,Array_2))"
      ],
      "metadata": {
        "colab": {
          "base_uri": "https://localhost:8080/"
        },
        "id": "Bm9KUe8-CyeO",
        "outputId": "ef10aa90-041c-41cc-e36d-5556acd03972"
      },
      "execution_count": 9,
      "outputs": [
        {
          "output_type": "stream",
          "name": "stdout",
          "text": [
            "[13  7  9  3 16]\n"
          ]
        }
      ]
    },
    {
      "cell_type": "code",
      "source": [
        "#Subtracting 2 Arrays\n",
        "print(np.subtract(Array_1,Array_2))"
      ],
      "metadata": {
        "colab": {
          "base_uri": "https://localhost:8080/"
        },
        "id": "k2fF1mG-Dvou",
        "outputId": "ff957df5-6b2c-48eb-9086-0c3c6f2e0e56"
      },
      "execution_count": 12,
      "outputs": [
        {
          "output_type": "stream",
          "name": "stdout",
          "text": [
            "[ 1  1 -9  1  2]\n"
          ]
        }
      ]
    },
    {
      "cell_type": "code",
      "source": [
        "#Multiplying 2 Arrays\n",
        "print(np.multiply(Array_1,Array_2))"
      ],
      "metadata": {
        "colab": {
          "base_uri": "https://localhost:8080/"
        },
        "id": "pji3gdYgECBF",
        "outputId": "444cf03d-139f-4e51-9d50-e0cb9dfc57fe"
      },
      "execution_count": 13,
      "outputs": [
        {
          "output_type": "stream",
          "name": "stdout",
          "text": [
            "[42 12  0  2 63]\n"
          ]
        }
      ]
    },
    {
      "cell_type": "code",
      "source": [
        "#Dividing 2 Arrays\n",
        "print(np.divide(Array_1, Array_2))"
      ],
      "metadata": {
        "colab": {
          "base_uri": "https://localhost:8080/"
        },
        "id": "cyzHLZjQEdon",
        "outputId": "beacefb6-ab23-4eba-8098-69212d0b8656"
      },
      "execution_count": 14,
      "outputs": [
        {
          "output_type": "stream",
          "name": "stdout",
          "text": [
            "[1.16666667 1.33333333 0.         2.         1.28571429]\n"
          ]
        }
      ]
    },
    {
      "cell_type": "code",
      "source": [
        "#Dot Product of 2 Arrays\n",
        "print(np.dot(Array_1,Array_2))"
      ],
      "metadata": {
        "colab": {
          "base_uri": "https://localhost:8080/"
        },
        "id": "lLX0WWAzEskg",
        "outputId": "7d03443f-6d85-4c6e-a4c6-b8acc4a2c082"
      },
      "execution_count": 15,
      "outputs": [
        {
          "output_type": "stream",
          "name": "stdout",
          "text": [
            "119\n"
          ]
        }
      ]
    },
    {
      "cell_type": "code",
      "source": [
        "#To find a number on a specific Index\n",
        "print(Array_1[3])"
      ],
      "metadata": {
        "colab": {
          "base_uri": "https://localhost:8080/"
        },
        "id": "XKD5OdzZFDMy",
        "outputId": "ec02c3ed-e1ec-44cd-cf13-af9f6ec62ba7"
      },
      "execution_count": 17,
      "outputs": [
        {
          "output_type": "stream",
          "name": "stdout",
          "text": [
            "2\n"
          ]
        }
      ]
    },
    {
      "cell_type": "code",
      "source": [
        "#Slicing of an Array\n",
        "print(Array_1[3:5])"
      ],
      "metadata": {
        "colab": {
          "base_uri": "https://localhost:8080/"
        },
        "id": "bVlPKbuEFgXu",
        "outputId": "70d60029-2d24-46da-e746-ab4af7403404"
      },
      "execution_count": 18,
      "outputs": [
        {
          "output_type": "stream",
          "name": "stdout",
          "text": [
            "[2 9]\n"
          ]
        }
      ]
    },
    {
      "cell_type": "code",
      "source": [
        "#Range of Numbers\n",
        "Range_Array=np.arange(8)\n",
        "print(Range_Array)"
      ],
      "metadata": {
        "colab": {
          "base_uri": "https://localhost:8080/"
        },
        "id": "YYlvQVm_ByAC",
        "outputId": "e4bee31f-d2d2-4104-9116-76fb954374a7"
      },
      "execution_count": 6,
      "outputs": [
        {
          "output_type": "stream",
          "name": "stdout",
          "text": [
            "[0 1 2 3 4 5 6 7]\n"
          ]
        }
      ]
    },
    {
      "cell_type": "code",
      "source": [
        "#Reshaping Array\n",
        "Range_Array.reshape(2,4)"
      ],
      "metadata": {
        "colab": {
          "base_uri": "https://localhost:8080/"
        },
        "id": "EKHAHceHCA_A",
        "outputId": "7827c6f4-3b69-47e3-bcc9-5854325f2813"
      },
      "execution_count": 7,
      "outputs": [
        {
          "output_type": "execute_result",
          "data": {
            "text/plain": [
              "array([[0, 1, 2, 3],\n",
              "       [4, 5, 6, 7]])"
            ]
          },
          "metadata": {},
          "execution_count": 7
        }
      ]
    },
    {
      "cell_type": "code",
      "source": [
        "#Array of Zeros\n",
        "Zeros_Array=np.zeros(5)\n",
        "print(Zeros_Array)"
      ],
      "metadata": {
        "colab": {
          "base_uri": "https://localhost:8080/"
        },
        "id": "yIJfEmUoBQ7o",
        "outputId": "a94a2b5f-14b2-4667-8f35-8155ac7c5179"
      },
      "execution_count": 4,
      "outputs": [
        {
          "output_type": "stream",
          "name": "stdout",
          "text": [
            "[0. 0. 0. 0. 0.]\n"
          ]
        }
      ]
    },
    {
      "cell_type": "code",
      "source": [
        "#Array of Ones\n",
        "Ones_Array=np.ones(7)\n",
        "print(Ones_Array)"
      ],
      "metadata": {
        "colab": {
          "base_uri": "https://localhost:8080/"
        },
        "id": "9h6pj2wiBi_W",
        "outputId": "3a31695b-976c-4d27-f855-e70be873f1e0"
      },
      "execution_count": 5,
      "outputs": [
        {
          "output_type": "stream",
          "name": "stdout",
          "text": [
            "[1. 1. 1. 1. 1. 1. 1.]\n"
          ]
        }
      ]
    },
    {
      "cell_type": "code",
      "source": [
        "#Random Number Array (Float Numbers)\n",
        "print(np.random.rand(8))"
      ],
      "metadata": {
        "colab": {
          "base_uri": "https://localhost:8080/"
        },
        "id": "mEzP0VR_F28H",
        "outputId": "0ee3c1e0-887b-42b6-c239-102accdde27e"
      },
      "execution_count": 19,
      "outputs": [
        {
          "output_type": "stream",
          "name": "stdout",
          "text": [
            "[0.65965506 0.64487456 0.95545137 0.55717306 0.05409124 0.9327645\n",
            " 0.16196856 0.81465737]\n"
          ]
        }
      ]
    },
    {
      "cell_type": "code",
      "source": [
        "#Random Number Array (Integer Numbers)\n",
        "Random_Number=(np.random.randint(10,size=(2,5)))\n",
        "print(Random_Number)"
      ],
      "metadata": {
        "colab": {
          "base_uri": "https://localhost:8080/"
        },
        "id": "N-e_W-rtGLsU",
        "outputId": "f2f716e7-aa5d-4527-eed7-fa246d86d86f"
      },
      "execution_count": 33,
      "outputs": [
        {
          "output_type": "stream",
          "name": "stdout",
          "text": [
            "[[2 3 7 4 3]\n",
            " [9 0 1 8 6]]\n"
          ]
        }
      ]
    },
    {
      "cell_type": "code",
      "source": [
        "#Flatten 2 Arrays\n",
        "print(Random_Number.flatten())"
      ],
      "metadata": {
        "colab": {
          "base_uri": "https://localhost:8080/"
        },
        "id": "f_VVZbG_HVJa",
        "outputId": "b50ba535-01ee-44e6-f5ed-6843b211e759"
      },
      "execution_count": 36,
      "outputs": [
        {
          "output_type": "stream",
          "name": "stdout",
          "text": [
            "[2 3 7 4 3 9 0 1 8 6]\n"
          ]
        }
      ]
    },
    {
      "cell_type": "code",
      "source": [
        "#Transpose of Array\n",
        "print(np.transpose(Random_Number))"
      ],
      "metadata": {
        "colab": {
          "base_uri": "https://localhost:8080/"
        },
        "id": "fXHvhx7xIWRf",
        "outputId": "52c48125-6751-4f75-9851-78106109a029"
      },
      "execution_count": 37,
      "outputs": [
        {
          "output_type": "stream",
          "name": "stdout",
          "text": [
            "[[2 9]\n",
            " [3 0]\n",
            " [7 1]\n",
            " [4 8]\n",
            " [3 6]]\n"
          ]
        }
      ]
    },
    {
      "cell_type": "code",
      "source": [
        "#Create an Identity Matrix\n",
        "print(np.eye(3))"
      ],
      "metadata": {
        "colab": {
          "base_uri": "https://localhost:8080/"
        },
        "id": "SNwjbMTZHKf2",
        "outputId": "4142f9f6-4d93-49db-f0fe-58125c84aa80"
      },
      "execution_count": 31,
      "outputs": [
        {
          "output_type": "stream",
          "name": "stdout",
          "text": [
            "[[1. 0. 0.]\n",
            " [0. 1. 0.]\n",
            " [0. 0. 1.]]\n"
          ]
        }
      ]
    },
    {
      "cell_type": "code",
      "source": [
        "#Concatenate two Arrays\n",
        "print(np.concatenate((Array_1,Array_2)))"
      ],
      "metadata": {
        "colab": {
          "base_uri": "https://localhost:8080/"
        },
        "id": "cN4UhajVIrTz",
        "outputId": "73e7f55e-d982-4b62-c50c-8cfdf6605b68"
      },
      "execution_count": 39,
      "outputs": [
        {
          "output_type": "stream",
          "name": "stdout",
          "text": [
            "[7 4 0 2 9 6 3 9 1 7]\n"
          ]
        }
      ]
    },
    {
      "cell_type": "code",
      "source": [
        "#Finding unique numbers in an array\n",
        "Array_3=np.array([3,8,3,7,8,8,7])\n",
        "print(Array_3)\n",
        "print(\"Unique Numbers:\", np.unique(Array_3))"
      ],
      "metadata": {
        "colab": {
          "base_uri": "https://localhost:8080/"
        },
        "id": "uqf496V2I8Ty",
        "outputId": "e2ddfb8b-b8cc-479d-961c-79b26c47cbe9"
      },
      "execution_count": 47,
      "outputs": [
        {
          "output_type": "stream",
          "name": "stdout",
          "text": [
            "[3 8 3 7 8 8 7]\n",
            "Unique Numbers: [3 7 8]\n"
          ]
        }
      ]
    },
    {
      "cell_type": "code",
      "source": [
        "#Sum along y-axis\n",
        "Array_4=np.array([[15,22,9],[33,17,45]])\n",
        "print(Array_4)\n",
        "print(\"Sum:\",np.sum(Array_4,axis=0))"
      ],
      "metadata": {
        "colab": {
          "base_uri": "https://localhost:8080/"
        },
        "id": "PiQndEMJJV9v",
        "outputId": "9836bac0-23cf-49db-8cf0-8a6f1679b9aa"
      },
      "execution_count": 45,
      "outputs": [
        {
          "output_type": "stream",
          "name": "stdout",
          "text": [
            "[[15 22  9]\n",
            " [33 17 45]]\n",
            "Sum: [48 39 54]\n"
          ]
        }
      ]
    },
    {
      "cell_type": "code",
      "source": [
        "#Sum along x-axis\n",
        "Array_4=np.array([[15,22,9],[33,17,45]])\n",
        "print(Array_4)\n",
        "print(\"Sum:\",np.sum(Array_4,axis=1))"
      ],
      "metadata": {
        "colab": {
          "base_uri": "https://localhost:8080/"
        },
        "id": "-sDdBwNAK3XL",
        "outputId": "3b3a3d61-0502-429e-d898-380f85ac1e56"
      },
      "execution_count": 46,
      "outputs": [
        {
          "output_type": "stream",
          "name": "stdout",
          "text": [
            "[[15 22  9]\n",
            " [33 17 45]]\n",
            "Sum: [46 95]\n"
          ]
        }
      ]
    }
  ]
}